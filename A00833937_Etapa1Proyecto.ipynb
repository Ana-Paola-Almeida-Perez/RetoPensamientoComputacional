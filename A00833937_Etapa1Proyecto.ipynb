{
  "nbformat": 4,
  "nbformat_minor": 0,
  "metadata": {
    "colab": {
      "name": "A00833937_Etapa1Proyecto.ipynb",
      "provenance": [],
      "collapsed_sections": [],
      "authorship_tag": "ABX9TyPex/VEkN0j5uue16Yybi6A",
      "include_colab_link": true
    },
    "kernelspec": {
      "name": "python3",
      "display_name": "Python 3"
    },
    "language_info": {
      "name": "python"
    }
  },
  "cells": [
    {
      "cell_type": "markdown",
      "metadata": {
        "id": "view-in-github",
        "colab_type": "text"
      },
      "source": [
        "<a href=\"https://colab.research.google.com/github/Ana-Paola-Almeida-Perez/RetoPensamientoComputacional/blob/main/A00833937_Etapa1Proyecto.ipynb\" target=\"_parent\"><img src=\"https://colab.research.google.com/assets/colab-badge.svg\" alt=\"Open In Colab\"/></a>"
      ]
    },
    {
      "cell_type": "code",
      "metadata": {
        "colab": {
          "base_uri": "https://localhost:8080/"
        },
        "id": "KoT1gMhakyP2",
        "outputId": "c46efd2f-3673-4b7a-c80b-24c3fb4e17aa"
      },
      "source": [
        "def main():\n",
        "  def menu():\n",
        "   opcion = 0\n",
        "  print(\"Sistema de Salud y Bienestar del Empleado\")\n",
        "  print(\"1. Alta de empleado\")\n",
        "  print(\"2. Calcular imc de empleados\")\n",
        "  print(\"3. Cambia información del empleaddo\")\n",
        "  print(\"4. Consulta un empleado\")\n",
        "  print(\"5. Reporte de todos los empleados\")\n",
        "  print(\"6. Reporte de empleados por departamento\")\n",
        "  print(\"7. Salir\")\n",
        "  opcion = int(input(\"Teclea la opcion: \"))\n",
        "  if opcion == 1:\n",
        "     def alta_empleado():\n",
        "      id = int(input(\"Teclea el id del empleado: \"))\n",
        "      nombre = input(\"Teclea el nombre del empleado: \")\n",
        "      edad = int(input(\"Teclea edad del empleado: \"))\n",
        "      peso = int(input(\"Teclea el peso (Kg): \"))\n",
        "      estatura = float(input(\"Teclea la estatura (Mts.): \"))\n",
        "      diabetes = int(input(\"Diabetes 1-Sí 0-No ? : \"))\n",
        "      hipertension = int(input(\"Hipertensión 1-Sí 0-No ? : \"))\n",
        "      corazon = int(input(\"Enfermedad corazón 1-Sí 0-No ? : \"))\n",
        "      cancer = int(input(\"Cáncer 1-Sí 0-No ? : \"))\n",
        "      tabaquismo = int(input(\"Tabaquismo 1-Sí 0-No ? : \"))\n",
        "      vacuna = int(input(\"Vacuna Covid-19 1-Sí 0-No ? : \"))\n",
        "      departamento = int(input(\"Teclea el número de departamento: \"))\n",
        "      print(id,\",\",nombre,\",\",edad,\",\",peso,\",\",estatura,\",\",diabetes,\",\",hipertension,\",\",corazon,\",\",cancer,\",\",tabaquismo,\",\",vacuna,\",\",departamento)\n",
        "\n",
        "     alta_empleado()\n",
        "\n",
        "  elif opcion == 2:\n",
        "    def calcular_imc():\n",
        "     print(\"Calcular IMC\")\n",
        "\n",
        "    calcular_imc()\n",
        "    \n",
        "  elif opcion == 3: \n",
        "     def actualizar_empleado():\n",
        "      print(\"Actualizar empleado\")\n",
        "\n",
        "     actualizar_empleado()\n",
        "\n",
        "  elif opcion == 4:\n",
        "     def consultar_empleado():\n",
        "       print(\"Consultar empleado\")\n",
        "\n",
        "     consultar_empleado()\n",
        "  \n",
        "  elif opcion == 5:\n",
        "     def crear_reporte_empleados():\n",
        "      print(\"Crear reporte empleados\")\n",
        "\n",
        "     crear_reporte_empleados()\n",
        "    \n",
        "  elif opcion == 6:\n",
        "     def reporte_empleados_departamentos():\n",
        "      print(\"Reporte empleados por departamento\")\n",
        "    \n",
        "     reporte_empleados_departamentos()\n",
        "   \n",
        "  elif opcion == 7:\n",
        "     def salir():\n",
        "      print(\"Salir\")\n",
        "     salir()\n",
        "   \n",
        "  else:\n",
        "     print(\"Opción incorrecta\")\n",
        "\n",
        "  menu()\n",
        "main()\n",
        "\n"
      ],
      "execution_count": null,
      "outputs": [
        {
          "output_type": "stream",
          "name": "stdout",
          "text": [
            "Sistema de Salud y Bienestar del Empleado\n",
            "1. Alta de empleado\n",
            "2. Calcular imc de empleados\n",
            "3. Cambia información del empleaddo\n",
            "4. Consulta un empleado\n",
            "5. Reporte de todos los empleados\n",
            "6. Reporte de empleados por departamento\n",
            "7. Salir\n"
          ]
        }
      ]
    }
  ]
}